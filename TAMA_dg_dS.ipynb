{
 "cells": [
  {
   "cell_type": "code",
   "execution_count": 1,
   "metadata": {
    "scrolled": false
   },
   "outputs": [
    {
     "name": "stdout",
     "output_type": "stream",
     "text": [
      "Populating the interactive namespace from numpy and matplotlib\n"
     ]
    }
   ],
   "source": [
    "import os\n",
    "from pandas import DataFrame, read_csv\n",
    "import pandas as pd\n",
    "import numpy as np\n",
    "import matplotlib.pyplot as plt\n",
    "%pylab inline"
   ]
  },
  {
   "cell_type": "markdown",
   "metadata": {},
   "source": [
    "# Read in and organize relative data (dg over different time intervals)\n"
   ]
  },
  {
   "cell_type": "code",
   "execution_count": 2,
   "metadata": {},
   "outputs": [
    {
     "data": {
      "text/plain": [
       "'c:\\\\Users\\\\ekahler\\\\Documents\\\\Python projects'"
      ]
     },
     "execution_count": 2,
     "metadata": {},
     "output_type": "execute_result"
    }
   ],
   "source": [
    "#where do we live right now? Change path to locate files?\n",
    "os.getcwd()"
   ]
  },
  {
   "cell_type": "code",
   "execution_count": 3,
   "metadata": {
    "scrolled": true
   },
   "outputs": [],
   "source": [
    "#Load the csv containing all relative differences (from a copy of what's in the archive)\n",
    "file = r'Relative.csv'\n",
    "df = pd.read_csv(file, usecols=['hub','station','2016','2018'])\n",
    "#change usecols to specify which years to compare - cannot compare 2014, 2016, or 2018 with any other years \n",
    "#for Avra Valley stations, only for Tucson stations. Prior to 2014, meter D209 was used in Avra Valley. Here\n",
    "#I only want to compare 2016 and 2018"
   ]
  },
  {
   "cell_type": "code",
   "execution_count": 4,
   "metadata": {},
   "outputs": [],
   "source": [
    "#remove NAN's from dataframe and assign to new dataframe variable\n",
    "newdf = df.dropna(thresh=4)\n",
    "#reindex new dataframe so it doesn't get stuck when you loop over it in the future (gives key error otherwise)\n",
    "newdf.index=range(len(newdf))"
   ]
  },
  {
   "cell_type": "code",
   "execution_count": 5,
   "metadata": {
    "scrolled": true
   },
   "outputs": [],
   "source": [
    "#upload the A10.parse results for TAMA that have been edited so all absolute values are present\n",
    "file2 = r'TAMA_all.csv' #alternate format for doing this - convenient if path is different\n",
    "ABS_all = pd.read_csv(file2, usecols=['Station Name', 'Date', 'Gravity'])\n",
    "#upload the previously edited csv only containing absolute values for 2016 and 2018\n",
    "file3 = r'Absolute1618.csv'\n",
    "ABS = pd.read_csv(file3)"
   ]
  },
  {
   "cell_type": "code",
   "execution_count": 6,
   "metadata": {},
   "outputs": [],
   "source": [
    "#add some blank columns to the dataframe, to be filled later\n",
    "newdf = newdf.assign(ABS2016 = 0, ABS2018 = 0, ABSdiff = 0, dS = 0, Easting = 0, Northing = 0)"
   ]
  },
  {
   "cell_type": "code",
   "execution_count": 7,
   "metadata": {
    "scrolled": true
   },
   "outputs": [],
   "source": [
    "#loop over the absolute and relative dataframes and assign values to the absolute columns (sum of absolute value\n",
    "#at hub plus the relative difference at the station)\n",
    "for i in range(len(ABS)):\n",
    "    for j in range(len(newdf)):\n",
    "        if newdf['hub'][j] == ABS['station'][i]:\n",
    "            newdf.loc[j,'ABS2016'] = ABS.loc[i,'2016']+ newdf.loc[j,'2016']\n",
    "            newdf.loc[j,'ABS2018'] = ABS.loc[i,'2018']+newdf.loc[j,'2018']\n",
    "for i in range(len(newdf)):\n",
    "    newdf.loc[i,'ABSdiff'] = newdf.loc[i,'ABS2018'] - newdf.loc[i,'ABS2016'] #dg\n",
    "    newdf.loc[i,'dS'] = newdf.loc[i,'ABSdiff']/12.77 #dS"
   ]
  },
  {
   "cell_type": "code",
   "execution_count": 8,
   "metadata": {
    "scrolled": true
   },
   "outputs": [
    {
     "data": {
      "text/html": [
       "<div>\n",
       "<style scoped>\n",
       "    .dataframe tbody tr th:only-of-type {\n",
       "        vertical-align: middle;\n",
       "    }\n",
       "\n",
       "    .dataframe tbody tr th {\n",
       "        vertical-align: top;\n",
       "    }\n",
       "\n",
       "    .dataframe thead th {\n",
       "        text-align: right;\n",
       "    }\n",
       "</style>\n",
       "<table border=\"1\" class=\"dataframe\">\n",
       "  <thead>\n",
       "    <tr style=\"text-align: right;\">\n",
       "      <th></th>\n",
       "      <th>hub</th>\n",
       "      <th>station</th>\n",
       "      <th>2016</th>\n",
       "      <th>2018</th>\n",
       "      <th>ABS2016</th>\n",
       "      <th>ABS2018</th>\n",
       "      <th>ABSdiff</th>\n",
       "      <th>Easting</th>\n",
       "      <th>Northing</th>\n",
       "      <th>dS</th>\n",
       "    </tr>\n",
       "  </thead>\n",
       "  <tbody>\n",
       "    <tr>\n",
       "      <th>0</th>\n",
       "      <td>adtucs</td>\n",
       "      <td>a54</td>\n",
       "      <td>12223.822780</td>\n",
       "      <td>12228.788990</td>\n",
       "      <td>9.792524e+08</td>\n",
       "      <td>9.792524e+08</td>\n",
       "      <td>4.766210</td>\n",
       "      <td>0</td>\n",
       "      <td>0</td>\n",
       "      <td>0.373235</td>\n",
       "    </tr>\n",
       "    <tr>\n",
       "      <th>1</th>\n",
       "      <td>adtucs</td>\n",
       "      <td>aetucs</td>\n",
       "      <td>-13053.951170</td>\n",
       "      <td>-13039.606660</td>\n",
       "      <td>9.792271e+08</td>\n",
       "      <td>9.792271e+08</td>\n",
       "      <td>14.144510</td>\n",
       "      <td>0</td>\n",
       "      <td>0</td>\n",
       "      <td>1.107636</td>\n",
       "    </tr>\n",
       "    <tr>\n",
       "      <th>2</th>\n",
       "      <td>adtucs</td>\n",
       "      <td>c92</td>\n",
       "      <td>7238.217198</td>\n",
       "      <td>7221.092937</td>\n",
       "      <td>9.792474e+08</td>\n",
       "      <td>9.792474e+08</td>\n",
       "      <td>-17.324261</td>\n",
       "      <td>0</td>\n",
       "      <td>0</td>\n",
       "      <td>-1.356638</td>\n",
       "    </tr>\n",
       "    <tr>\n",
       "      <th>3</th>\n",
       "      <td>adtucs</td>\n",
       "      <td>fd62</td>\n",
       "      <td>16560.810550</td>\n",
       "      <td>16570.692340</td>\n",
       "      <td>9.792567e+08</td>\n",
       "      <td>9.792567e+08</td>\n",
       "      <td>9.681790</td>\n",
       "      <td>0</td>\n",
       "      <td>0</td>\n",
       "      <td>0.758167</td>\n",
       "    </tr>\n",
       "    <tr>\n",
       "      <th>4</th>\n",
       "      <td>adtucs</td>\n",
       "      <td>nn11</td>\n",
       "      <td>5833.728064</td>\n",
       "      <td>5836.330886</td>\n",
       "      <td>9.792460e+08</td>\n",
       "      <td>9.792460e+08</td>\n",
       "      <td>2.402822</td>\n",
       "      <td>0</td>\n",
       "      <td>0</td>\n",
       "      <td>0.188161</td>\n",
       "    </tr>\n",
       "  </tbody>\n",
       "</table>\n",
       "</div>"
      ],
      "text/plain": [
       "      hub station          2016          2018       ABS2016       ABS2018  \\\n",
       "0  adtucs     a54  12223.822780  12228.788990  9.792524e+08  9.792524e+08   \n",
       "1  adtucs  aetucs -13053.951170 -13039.606660  9.792271e+08  9.792271e+08   \n",
       "2  adtucs     c92   7238.217198   7221.092937  9.792474e+08  9.792474e+08   \n",
       "3  adtucs    fd62  16560.810550  16570.692340  9.792567e+08  9.792567e+08   \n",
       "4  adtucs    nn11   5833.728064   5836.330886  9.792460e+08  9.792460e+08   \n",
       "\n",
       "     ABSdiff  Easting  Northing        dS  \n",
       "0   4.766210        0         0  0.373235  \n",
       "1  14.144510        0         0  1.107636  \n",
       "2 -17.324261        0         0 -1.356638  \n",
       "3   9.681790        0         0  0.758167  \n",
       "4   2.402822        0         0  0.188161  "
      ]
     },
     "execution_count": 8,
     "metadata": {},
     "output_type": "execute_result"
    }
   ],
   "source": [
    "#look ok?\n",
    "newdf.head()"
   ]
  },
  {
   "cell_type": "code",
   "execution_count": 9,
   "metadata": {
    "scrolled": true
   },
   "outputs": [],
   "source": [
    "#remove rows of zeros (no abs diffs)\n",
    "for i in range(len(newdf)):\n",
    "    if newdf['ABSdiff'][i] == 0.0:\n",
    "        newdf = newdf.drop(i)    \n",
    "newdf.index=range(len(newdf)) #reorganize indeces again so future loops don't freak out        "
   ]
  },
  {
   "cell_type": "code",
   "execution_count": 10,
   "metadata": {},
   "outputs": [],
   "source": [
    "#now add the absolute measurement dS values from the absolute column\n",
    "#add rows that have 0's for column placeholders, to match the dataframe they are being attached to\n",
    "for i in range(len(ABS)):\n",
    "    newdf.loc[-1] = [0,ABS['station'][i],0,0,0,0,0,0,0, ABS['dS'][i]]\n",
    "    newdf.index = newdf.index +1 #without this, it will replace a single row i times\n",
    "newdf.index=range(len(newdf))#for the safety of future loops!"
   ]
  },
  {
   "cell_type": "code",
   "execution_count": 11,
   "metadata": {},
   "outputs": [],
   "source": [
    "#add in columns of coordinates so that file can be uploaded to ArcMap\n",
    "coords = pd.read_csv('TAMAcoords.csv')"
   ]
  },
  {
   "cell_type": "code",
   "execution_count": 12,
   "metadata": {
    "scrolled": true
   },
   "outputs": [
    {
     "name": "stdout",
     "output_type": "stream",
     "text": [
      "boo\n"
     ]
    }
   ],
   "source": [
    "#pull out coordinates from coords and match to appropriate lines in newdf\n",
    "for j in range(len(coords)):\n",
    "    for i in range(len(newdf)):\n",
    "        if newdf['station'][i] == coords['Site_ID'][j]:\n",
    "            newdf.loc[i,'Easting'] = coords.loc[j,'Easting']\n",
    "            newdf.loc[i,'Northing'] = coords.loc[j,'Northing']\n",
    "        "
   ]
  },
  {
   "cell_type": "code",
   "execution_count": 13,
   "metadata": {
    "scrolled": true
   },
   "outputs": [
    {
     "data": {
      "text/html": [
       "<div>\n",
       "<style scoped>\n",
       "    .dataframe tbody tr th:only-of-type {\n",
       "        vertical-align: middle;\n",
       "    }\n",
       "\n",
       "    .dataframe tbody tr th {\n",
       "        vertical-align: top;\n",
       "    }\n",
       "\n",
       "    .dataframe thead th {\n",
       "        text-align: right;\n",
       "    }\n",
       "</style>\n",
       "<table border=\"1\" class=\"dataframe\">\n",
       "  <thead>\n",
       "    <tr style=\"text-align: right;\">\n",
       "      <th></th>\n",
       "      <th>hub</th>\n",
       "      <th>station</th>\n",
       "      <th>2016</th>\n",
       "      <th>2018</th>\n",
       "      <th>ABS2016</th>\n",
       "      <th>ABS2018</th>\n",
       "      <th>ABSdiff</th>\n",
       "      <th>Easting</th>\n",
       "      <th>Northing</th>\n",
       "      <th>dS</th>\n",
       "    </tr>\n",
       "  </thead>\n",
       "  <tbody>\n",
       "    <tr>\n",
       "      <th>0</th>\n",
       "      <td>adtucs</td>\n",
       "      <td>a54</td>\n",
       "      <td>12223.822780</td>\n",
       "      <td>12228.788990</td>\n",
       "      <td>9.792524e+08</td>\n",
       "      <td>9.792524e+08</td>\n",
       "      <td>4.766210</td>\n",
       "      <td>503293.0645</td>\n",
       "      <td>3571734.700</td>\n",
       "      <td>0.373235</td>\n",
       "    </tr>\n",
       "    <tr>\n",
       "      <th>1</th>\n",
       "      <td>adtucs</td>\n",
       "      <td>aetucs</td>\n",
       "      <td>-13053.951170</td>\n",
       "      <td>-13039.606660</td>\n",
       "      <td>9.792271e+08</td>\n",
       "      <td>9.792271e+08</td>\n",
       "      <td>14.144510</td>\n",
       "      <td>499613.0000</td>\n",
       "      <td>3564747.000</td>\n",
       "      <td>1.107636</td>\n",
       "    </tr>\n",
       "    <tr>\n",
       "      <th>2</th>\n",
       "      <td>adtucs</td>\n",
       "      <td>c92</td>\n",
       "      <td>7238.217198</td>\n",
       "      <td>7221.092937</td>\n",
       "      <td>9.792474e+08</td>\n",
       "      <td>9.792474e+08</td>\n",
       "      <td>-17.324261</td>\n",
       "      <td>501947.8100</td>\n",
       "      <td>3579884.060</td>\n",
       "      <td>-1.356638</td>\n",
       "    </tr>\n",
       "    <tr>\n",
       "      <th>3</th>\n",
       "      <td>adtucs</td>\n",
       "      <td>fd62</td>\n",
       "      <td>16560.810550</td>\n",
       "      <td>16570.692340</td>\n",
       "      <td>9.792567e+08</td>\n",
       "      <td>9.792567e+08</td>\n",
       "      <td>9.681790</td>\n",
       "      <td>494738.0000</td>\n",
       "      <td>3573014.000</td>\n",
       "      <td>0.758167</td>\n",
       "    </tr>\n",
       "    <tr>\n",
       "      <th>4</th>\n",
       "      <td>adtucs</td>\n",
       "      <td>nn11</td>\n",
       "      <td>5833.728064</td>\n",
       "      <td>5836.330886</td>\n",
       "      <td>9.792460e+08</td>\n",
       "      <td>9.792460e+08</td>\n",
       "      <td>2.402822</td>\n",
       "      <td>494114.7760</td>\n",
       "      <td>3568134.478</td>\n",
       "      <td>0.188161</td>\n",
       "    </tr>\n",
       "  </tbody>\n",
       "</table>\n",
       "</div>"
      ],
      "text/plain": [
       "      hub station          2016          2018       ABS2016       ABS2018  \\\n",
       "0  adtucs     a54  12223.822780  12228.788990  9.792524e+08  9.792524e+08   \n",
       "1  adtucs  aetucs -13053.951170 -13039.606660  9.792271e+08  9.792271e+08   \n",
       "2  adtucs     c92   7238.217198   7221.092937  9.792474e+08  9.792474e+08   \n",
       "3  adtucs    fd62  16560.810550  16570.692340  9.792567e+08  9.792567e+08   \n",
       "4  adtucs    nn11   5833.728064   5836.330886  9.792460e+08  9.792460e+08   \n",
       "\n",
       "     ABSdiff      Easting     Northing        dS  \n",
       "0   4.766210  503293.0645  3571734.700  0.373235  \n",
       "1  14.144510  499613.0000  3564747.000  1.107636  \n",
       "2 -17.324261  501947.8100  3579884.060 -1.356638  \n",
       "3   9.681790  494738.0000  3573014.000  0.758167  \n",
       "4   2.402822  494114.7760  3568134.478  0.188161  "
      ]
     },
     "execution_count": 13,
     "metadata": {},
     "output_type": "execute_result"
    }
   ],
   "source": [
    "#look good?\n",
    "newdf.head()"
   ]
  },
  {
   "cell_type": "code",
   "execution_count": 14,
   "metadata": {},
   "outputs": [],
   "source": [
    "#kick out the outliers\n",
    "limit = 10 #set limit beyond which dS is probably just bad\n",
    "for i in range(len(newdf)):\n",
    "    if newdf['dS'][i] > limit:\n",
    "        newdf = newdf.drop(i)\n",
    "newdf.index=range(len(newdf)) #!"
   ]
  },
  {
   "cell_type": "code",
   "execution_count": 15,
   "metadata": {
    "scrolled": true
   },
   "outputs": [],
   "source": [
    "#check to make sure every line has coordinates. If not, add to coordinate CSV and rerun\n",
    "for i in range(len(newdf)):\n",
    "    if newdf['Easting'][i] == 0:\n",
    "        print(i)\n",
    "        print(newdf['station'][i])"
   ]
  },
  {
   "cell_type": "code",
   "execution_count": 16,
   "metadata": {},
   "outputs": [],
   "source": [
    "#create a new dataframe that is a subset of the columns in the main dataframe\n",
    "outdf = newdf[['station','Easting','Northing','dS']]"
   ]
  },
  {
   "cell_type": "code",
   "execution_count": 17,
   "metadata": {
    "scrolled": true
   },
   "outputs": [
    {
     "name": "stdout",
     "output_type": "stream",
     "text": [
      "['aetucs', 0.187940484]\n",
      "['c92', -0.344557564]\n",
      "['fd62', 0.563821451]\n"
     ]
    },
    {
     "name": "stderr",
     "output_type": "stream",
     "text": [
      "C:\\Users\\ekahler\\AppData\\Local\\Continuum\\miniconda3\\envs\\pyg35\\lib\\site-packages\\pandas\\core\\indexing.py:543: SettingWithCopyWarning: \n",
      "A value is trying to be set on a copy of a slice from a DataFrame.\n",
      "Try using .loc[row_indexer,col_indexer] = value instead\n",
      "\n",
      "See the caveats in the documentation: http://pandas.pydata.org/pandas-docs/stable/indexing.html#indexing-view-versus-copy\n",
      "  self.obj[item] = s\n"
     ]
    },
    {
     "name": "stdout",
     "output_type": "stream",
     "text": [
      "['c92', -0.344557564]\n",
      "['aatucs', 1.158966324]\n",
      "['af14', 1.119812065]\n",
      "['aetucs', 0.187940484]\n",
      "['av25', 1.127642911]\n",
      "['af14', 1.119812065]\n",
      "['av25', 1.127642911]\n",
      "['c22a', 0.6577916970000001]\n",
      "['c92', -0.344557564]\n",
      "['enrb', -0.015661711000000002]\n",
      "['fd62', 0.563821451]\n",
      "['aatucs', 1.158966324]\n",
      "['cetucs', 0.187940484]\n",
      "['cftucs', 0.078308536]\n",
      "['wr175a', -0.501174636]\n",
      "['adtucs', -0.015661711000000002]\n",
      "['aetucs', 0.187940484]\n"
     ]
    }
   ],
   "source": [
    "#check to make sure all absolute (hub) stations are represented, and check to see how different\n",
    "#the dS values are when they are present multiple times (from a relative survey and the absolute differences)\n",
    "for i in range(len(outdf)):\n",
    "    for j in range(len(ABS)):\n",
    "        if outdf['station'][i] == ABS['station'][j]:\n",
    "            outdf.loc[i,'dS'] = ABS.loc[j,'dS']\n",
    "            print([outdf['station'][i],outdf['dS'][i]])"
   ]
  },
  {
   "cell_type": "code",
   "execution_count": 18,
   "metadata": {},
   "outputs": [],
   "source": [
    "#output a csv file for uploading to ArcMap\n",
    "#Note: May have to open this file and delete index column or save as something else\n",
    "#for ArcMap to recognize the correct fields when projecting, but shouldn't have to, \n",
    "#it's just an ArcMap bug.\n",
    "outdf.to_csv('dSforKriging.csv')"
   ]
  }
 ],
 "metadata": {
  "kernelspec": {
   "display_name": "Python 3",
   "language": "python",
   "name": "python3"
  },
  "language_info": {
   "codemirror_mode": {
    "name": "ipython",
    "version": 3
   },
   "file_extension": ".py",
   "mimetype": "text/x-python",
   "name": "python",
   "nbconvert_exporter": "python",
   "pygments_lexer": "ipython3",
   "version": "3.6.6"
  }
 },
 "nbformat": 4,
 "nbformat_minor": 2
}
