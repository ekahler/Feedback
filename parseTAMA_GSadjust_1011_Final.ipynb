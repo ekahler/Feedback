{
 "cells": [
  {
   "cell_type": "code",
   "execution_count": 1,
   "metadata": {},
   "outputs": [],
   "source": [
    "import os\n",
    "import glob\n",
    "import re\n",
    "import sys\n",
    "from tkinter import filedialog\n",
    "from tkinter import *\n",
    "import fnmatch\n",
    "import string\n",
    "import pandas as pd\n",
    "import xlrd\n",
    "import datetime"
   ]
  },
  {
   "cell_type": "code",
   "execution_count": 2,
   "metadata": {},
   "outputs": [],
   "source": [
    "#Please navigate to folder indicating year of measurement:\n",
    "# e.g. ''\\\\igswztwwgszona\\Gravity Data Archive\\Relative Data\\TAMA\\2018'\n",
    "root = Tk()\n",
    "root.withdraw()\n",
    "folder = filedialog.askdirectory()"
   ]
  },
  {
   "cell_type": "code",
   "execution_count": 3,
   "metadata": {
    "scrolled": false
   },
   "outputs": [
    {
     "name": "stdout",
     "output_type": "stream",
     "text": [
      "adtucs\n",
      "aetucs\n",
      "af14\n",
      "av25\n",
      "c22a\n",
      "fd62\n",
      "tucsoncf\n",
      "wr175\n"
     ]
    }
   ],
   "source": [
    "#quick check to see all stations included in that year\n",
    "data = []\n",
    "newf = str(folder)\n",
    "for folders in sorted(os.listdir(folder)):\n",
    "    print(folders)"
   ]
  },
  {
   "cell_type": "code",
   "execution_count": 4,
   "metadata": {},
   "outputs": [],
   "source": [
    "#define year for naming of outputs separately\n",
    "year = 2018"
   ]
  },
  {
   "cell_type": "markdown",
   "metadata": {},
   "source": [
    "# Define a function to parse each spreadsheet in folders:"
   ]
  },
  {
   "cell_type": "code",
   "execution_count": 5,
   "metadata": {},
   "outputs": [],
   "source": [
    "def parser(name):\n",
    "    new = []\n",
    "    lines = []\n",
    "    for i in range(name.shape[1]):\n",
    "        new = []\n",
    "        one = name.iloc[:,i]\n",
    "        one = one.dropna()\n",
    "        one.index=range(len(one))\n",
    "        #print(one)\n",
    "        num = one.shape[0]\n",
    "        \n",
    "        for i in range(num):\n",
    "            new1 = one[i]\n",
    "            #print(type(new1))\n",
    "            if  isinstance(new1, datetime.date) == True:\n",
    "                #print('true')\n",
    "                new1 = '{0.hour}:{0.minute}:{0.second}'.format(new1)\n",
    "            new.append(new1)\n",
    "\n",
    "        if new[0] != 'time':\n",
    "            if new[0] != 'gravity':\n",
    "                lines.append(new)\n",
    "    return lines"
   ]
  },
  {
   "cell_type": "markdown",
   "metadata": {},
   "source": [
    "# Pull out relevant information and make a string for output to .txt file:"
   ]
  },
  {
   "cell_type": "raw",
   "metadata": {},
   "source": [
    "#The next section writes a text file for every spreadsheet, so create a new \"trash\" folder to store these in\n",
    "filepath = os.path.join(str(os.getcwd()) + str(year) + 'trash')\n",
    "if not os.path.exists(str(os.getcwd()) + str(year) + 'trash'):\n",
    "    os.makedirs(str(os.getcwd()) + str(year) + 'trash')"
   ]
  },
  {
   "cell_type": "code",
   "execution_count": 6,
   "metadata": {
    "scrolled": true
   },
   "outputs": [
    {
     "name": "stdout",
     "output_type": "stream",
     "text": [
      "WARNING *** OLE2 inconsistency: SSCS size is 0 but SSAT size is non-zero\n",
      "WARNING *** OLE2 inconsistency: SSCS size is 0 but SSAT size is non-zero\n"
     ]
    }
   ],
   "source": [
    "master = pd.DataFrame()\n",
    "\n",
    "data = []\n",
    "newf = str(folder)\n",
    "for folders in sorted(os.listdir(folder)):\n",
    "    for file in sorted(os.listdir(folder + '/' + folders)):\n",
    "        abs_path = os.path.join(folder + '/' + folders + '/' + file)\n",
    "        data_xls = pd.read_excel(abs_path,'results', index_col=None, usecols = 7, dtype = 'object')\n",
    "        yr = data_xls['Unnamed: 3'][0]\n",
    "        #dat = data_xls['Unnamed: 2'][0]\n",
    "        #dat = dat.replace(year = yr).date()\n",
    "        #dat = '{0.year}/{0.month}/{0.day}'.format(dat)\n",
    "        dat = file[0:4] + '/' + file[4:6] + '/' + file[6:8]\n",
    "        user = data_xls['Unnamed: 2'][3][0]\n",
    "        meter1 = data_xls['Unnamed: 2'][6] \n",
    "        meter2 = data_xls['Unnamed: 3'][6]\n",
    "        meter2 = str(meter2)\n",
    "        meter = meter1 + meter2\n",
    "        zeros = [0,0,0,0,0,0,0,0,0,0]\n",
    "        times = data_xls[51:56]\n",
    "        times.index=range(len(times))\n",
    "        times = times.dropna(thresh = len(times)-3, axis = 1)\n",
    "\n",
    "        grav = data_xls[57:62]\n",
    "        grav.index = range(len(grav))\n",
    "        grav = grav.dropna(thresh = len(grav) - 3, axis = 1)\n",
    "\n",
    "\n",
    "        A = parser(times)\n",
    "\n",
    "        B = parser(grav)\n",
    "        lists = []\n",
    "\n",
    "        length = (A[0])\n",
    "        for i in range(len(A)-1): #for rows in A\n",
    "            cols = len(A[i])\n",
    "            for j in range(1,cols): #for columns in A\n",
    "                #print(j)\n",
    "                if type(A[i][j]) == datetime.time:\n",
    "                    A[i][j] = '{0.hour}:{0.minute}:{0.second}'.format(A[i][j])\n",
    "                new = [A[i][0], user, meter, dat, A[i][j], B[i][j], 0,0,0,0,0,0,0,0,0,0]\n",
    "                \n",
    "                lists.append(new)\n",
    "\n",
    "                #A[0][1] = '{0.hour}:{0.minute}:{0.second}'.format(A[0][1])\n",
    "                #new = [A[0][0], user, meter, dat, A[0][1], B[0][1], 0,0,0,0,0,0,0,0,0,0]\n",
    "                #list.append(new)\n",
    "        \n",
    "        lists1 = pd.DataFrame(lists) #convert results to a dataframe\n",
    "        master = master.append(lists1, ignore_index = True) #append each new dataframe to the master df\n",
    "        #convert back to a dataframe \n",
    "        #list2 = pd.DataFrame(list)\n",
    "\n",
    "master.columns = ['sta', 'user', 'meter', 'date','time','gravity','b','c','d','e','f','g','h','i','j','k']\n",
    "        # use to_csv but specify .txt to output GSAdjust-readable output file inside \"trash\" folder\n",
    "        #list2.to_csv(os.path.join(filepath, file +'.txt'), sep = ' ', header = None, index = False)"
   ]
  },
  {
   "cell_type": "markdown",
   "metadata": {},
   "source": [
    "# Convert D-meter grav to GSadjust units"
   ]
  },
  {
   "cell_type": "code",
   "execution_count": 7,
   "metadata": {
    "scrolled": true
   },
   "outputs": [
    {
     "name": "stderr",
     "output_type": "stream",
     "text": [
      "C:\\A\\lib\\site-packages\\ipykernel\\__main__.py:3: SettingWithCopyWarning: \n",
      "A value is trying to be set on a copy of a slice from a DataFrame\n",
      "\n",
      "See the caveats in the documentation: http://pandas.pydata.org/pandas-docs/stable/indexing.html#indexing-view-versus-copy\n",
      "  app.launch_new_instance()\n"
     ]
    }
   ],
   "source": [
    "#use iloc if this fails\n",
    "for i in range(len(master)):\n",
    "    master['gravity'][i] = float(master['gravity'][i]) * 0.001"
   ]
  },
  {
   "cell_type": "markdown",
   "metadata": {},
   "source": [
    "# Deal with formatting issues that will cause GSadjust unhappiness"
   ]
  },
  {
   "cell_type": "code",
   "execution_count": 8,
   "metadata": {},
   "outputs": [],
   "source": [
    "master['sta'] = master['sta'].str.replace('\"\"','')"
   ]
  },
  {
   "cell_type": "code",
   "execution_count": 9,
   "metadata": {
    "scrolled": true
   },
   "outputs": [],
   "source": [
    "master['sta'] = master['sta'].str.replace(\"''\",'')"
   ]
  },
  {
   "cell_type": "code",
   "execution_count": 10,
   "metadata": {},
   "outputs": [],
   "source": [
    "master['sta'] = master['sta'].str.replace(' ','')"
   ]
  },
  {
   "cell_type": "markdown",
   "metadata": {},
   "source": [
    "# Create output text file to load as \"raw Burris\" into GSadjust"
   ]
  },
  {
   "cell_type": "code",
   "execution_count": 11,
   "metadata": {},
   "outputs": [],
   "source": [
    "master.to_csv('TAMAoutput_forGSadjust' + str(year) + '.txt', header = False, index = False, sep = ' ')"
   ]
  },
  {
   "cell_type": "code",
   "execution_count": null,
   "metadata": {},
   "outputs": [],
   "source": []
  }
 ],
 "metadata": {
  "kernelspec": {
   "display_name": "Python [conda root]",
   "language": "python",
   "name": "conda-root-py"
  },
  "language_info": {
   "codemirror_mode": {
    "name": "ipython",
    "version": 3
   },
   "file_extension": ".py",
   "mimetype": "text/x-python",
   "name": "python",
   "nbconvert_exporter": "python",
   "pygments_lexer": "ipython3",
   "version": "3.6.5"
  }
 },
 "nbformat": 4,
 "nbformat_minor": 2
}
