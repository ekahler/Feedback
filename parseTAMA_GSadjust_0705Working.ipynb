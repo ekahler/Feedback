{
 "cells": [
  {
   "cell_type": "code",
   "execution_count": 1,
   "metadata": {},
   "outputs": [],
   "source": [
    "import os\n",
    "import glob\n",
    "import re\n",
    "import sys\n",
    "from tkinter import filedialog\n",
    "from tkinter import *\n",
    "import fnmatch\n",
    "import string\n",
    "import pandas as pd\n",
    "import xlrd\n",
    "import datetime"
   ]
  },
  {
   "cell_type": "code",
   "execution_count": 2,
   "metadata": {},
   "outputs": [],
   "source": [
    "#Please navigate to folder indicating year of measurement:\n",
    "# e.g. ''\\\\igswztwwgszona\\Gravity Data Archive\\Relative Data\\TAMA\\2018'\n",
    "root = Tk()\n",
    "root.withdraw()\n",
    "folder = filedialog.askdirectory()"
   ]
  },
  {
   "cell_type": "code",
   "execution_count": 4,
   "metadata": {},
   "outputs": [
    {
     "name": "stdout",
     "output_type": "stream",
     "text": [
      "adtucs\n",
      "aetucs\n",
      "af13\n",
      "av25\n",
      "c22a\n",
      "fd62\n",
      "tucsoncf\n",
      "wr175\n"
     ]
    }
   ],
   "source": [
    "#quick check to see all stations included in that year\n",
    "data = []\n",
    "newf = str(folder)\n",
    "for folders in sorted(os.listdir(folder)):\n",
    "    print(folders)"
   ]
  },
  {
   "cell_type": "markdown",
   "metadata": {},
   "source": [
    "# Define a function to parse each spreadsheet in folders:"
   ]
  },
  {
   "cell_type": "code",
   "execution_count": 5,
   "metadata": {},
   "outputs": [],
   "source": [
    "def parser(name):\n",
    "    new = []\n",
    "    lines = []\n",
    "    for i in range(name.shape[1]):\n",
    "        new = []\n",
    "        one = name.iloc[:,i]\n",
    "        one = one.dropna()\n",
    "        one.index=range(len(one))\n",
    "        #print(one)\n",
    "        num = one.shape[0]\n",
    "        \n",
    "        for i in range(num):\n",
    "            new1 = one[i]\n",
    "            #print(type(new1))\n",
    "            if  isinstance(new1, datetime.date) == True:\n",
    "                #print('true')\n",
    "                new1 = '{0.hour}:{0.minute}:{0.second}'.format(new1)\n",
    "            new.append(new1)\n",
    "\n",
    "        if new[0] != 'time':\n",
    "            if new[0] != 'gravity':\n",
    "                lines.append(new)\n",
    "    return lines"
   ]
  },
  {
   "cell_type": "markdown",
   "metadata": {},
   "source": [
    "# Pull out relevant information and make a string for output to .txt file:"
   ]
  },
  {
   "cell_type": "code",
   "execution_count": 8,
   "metadata": {
    "scrolled": true
   },
   "outputs": [
    {
     "name": "stdout",
     "output_type": "stream",
     "text": [
      "WARNING *** OLE2 inconsistency: SSCS size is 0 but SSAT size is non-zero\n",
      "WARNING *** OLE2 inconsistency: SSCS size is 0 but SSAT size is non-zero\n"
     ]
    }
   ],
   "source": [
    "data = []\n",
    "newf = str(folder)\n",
    "for folders in sorted(os.listdir(folder)):\n",
    "    for file in sorted(os.listdir(folder + '/' + folders)):\n",
    "        abs_path = os.path.join(folder + '/' + folders + '/' + file)\n",
    "        data_xls = pd.read_excel(abs_path,'results', index_col=None, usecols = 7, dtype = 'object')\n",
    "        yr = data_xls['Unnamed: 3'][0]\n",
    "        #dat = data_xls['Unnamed: 2'][0]\n",
    "        #dat = dat.replace(year = yr).date()\n",
    "        #dat = '{0.year}/{0.month}/{0.day}'.format(dat)\n",
    "        dat = file[0:4] + '/' + file[4:6] + '/' + file[6:8]\n",
    "        user = data_xls['Unnamed: 2'][3][0]\n",
    "        meter1 = data_xls['Unnamed: 2'][6] \n",
    "        meter2 = data_xls['Unnamed: 3'][6]\n",
    "        meter2 = str(meter2)\n",
    "        meter = meter1 + meter2\n",
    "        zeros = [0,0,0,0,0,0,0,0,0,0]\n",
    "        times = data_xls[51:56]\n",
    "        times.index=range(len(times))\n",
    "        times = times.dropna(thresh = len(times)-3, axis = 1)\n",
    "\n",
    "        grav = data_xls[57:62]\n",
    "        grav.index = range(len(grav))\n",
    "        grav = grav.dropna(thresh = len(grav) - 3, axis = 1)\n",
    "\n",
    "\n",
    "        A = parser(times)\n",
    "\n",
    "        B = parser(grav)\n",
    "        list = []\n",
    "\n",
    "        length = (A[0])\n",
    "        for i in range(len(A)): #for rows in A\n",
    "            cols = len(A[i])\n",
    "            for j in range(1,cols): #for columns in A\n",
    "                #print(j)\n",
    "                if type(A[i][j]) == datetime.time:\n",
    "                    A[i][j] = '{0.hour}:{0.minute}:{0.second}'.format(A[i][j])\n",
    "                new = [A[i][0], user, meter, dat, A[i][j], B[i][j], 0,0,0,0,0,0,0,0,0,0]\n",
    "                list.append(new)\n",
    "\n",
    "                #A[0][1] = '{0.hour}:{0.minute}:{0.second}'.format(A[0][1])\n",
    "                #new = [A[0][0], user, meter, dat, A[0][1], B[0][1], 0,0,0,0,0,0,0,0,0,0]\n",
    "                #list.append(new)\n",
    "        \n",
    "\n",
    "\n",
    "        #convert back to a dataframe because...i only know how to do it this way\n",
    "        list2 = pd.DataFrame(list)\n",
    "\n",
    "\n",
    "        # use to_csv but specify .txt to output GSAdjust-readable output file\n",
    "        list2.to_csv(file +'.txt', sep = ' ', header = None, index = False)"
   ]
  },
  {
   "cell_type": "markdown",
   "metadata": {},
   "source": [
    "# Smash together the individual text files just created:"
   ]
  },
  {
   "cell_type": "code",
   "execution_count": 9,
   "metadata": {},
   "outputs": [],
   "source": [
    "read_files = glob.glob('*.txt')\n",
    "\n",
    "with open('allTAMA.txt', 'wb') as outfile:\n",
    "    for f in read_files:\n",
    "        with open(f, 'rb') as infile:\n",
    "            outfile.write(infile.read())"
   ]
  },
  {
   "cell_type": "markdown",
   "metadata": {},
   "source": [
    "# Open up allTAMA.txt, fix it, and rename allTAMA_fixed.txt:"
   ]
  },
  {
   "cell_type": "code",
   "execution_count": 10,
   "metadata": {},
   "outputs": [],
   "source": [
    "data = pd.read_csv('allTAMA.txt', sep = ' ', header = None)\n",
    "data.columns = ['sta', 'user', 'meter', 'date','time','gravity','b','c','d','e','f','g','h','i','j','k']"
   ]
  },
  {
   "cell_type": "markdown",
   "metadata": {},
   "source": [
    "# export to csv and sort by date and then time, fix date format back:"
   ]
  },
  {
   "cell_type": "code",
   "execution_count": 11,
   "metadata": {},
   "outputs": [],
   "source": [
    "#date format will go wrong in csv, need to force it to be yyyy-mm-dd format before reloading in next cell\n",
    "data.to_csv('fixdates.csv', sep = ',')"
   ]
  },
  {
   "cell_type": "code",
   "execution_count": 22,
   "metadata": {},
   "outputs": [],
   "source": [
    "#read it back in, all corrections should have been made now\n",
    "datanow = pd.read_csv('fixdates.csv')"
   ]
  },
  {
   "cell_type": "code",
   "execution_count": 23,
   "metadata": {
    "scrolled": false
   },
   "outputs": [
    {
     "data": {
      "text/html": [
       "<div>\n",
       "<style scoped>\n",
       "    .dataframe tbody tr th:only-of-type {\n",
       "        vertical-align: middle;\n",
       "    }\n",
       "\n",
       "    .dataframe tbody tr th {\n",
       "        vertical-align: top;\n",
       "    }\n",
       "\n",
       "    .dataframe thead th {\n",
       "        text-align: right;\n",
       "    }\n",
       "</style>\n",
       "<table border=\"1\" class=\"dataframe\">\n",
       "  <thead>\n",
       "    <tr style=\"text-align: right;\">\n",
       "      <th></th>\n",
       "      <th>sta</th>\n",
       "      <th>user</th>\n",
       "      <th>meter</th>\n",
       "      <th>date</th>\n",
       "      <th>time</th>\n",
       "      <th>gravity</th>\n",
       "      <th>b</th>\n",
       "      <th>c</th>\n",
       "      <th>d</th>\n",
       "      <th>e</th>\n",
       "      <th>f</th>\n",
       "      <th>g</th>\n",
       "      <th>h</th>\n",
       "      <th>i</th>\n",
       "      <th>j</th>\n",
       "      <th>k</th>\n",
       "    </tr>\n",
       "  </thead>\n",
       "  <tbody>\n",
       "    <tr>\n",
       "      <th>0</th>\n",
       "      <td>david</td>\n",
       "      <td>P</td>\n",
       "      <td>D127</td>\n",
       "      <td>2015/12/15</td>\n",
       "      <td>10:59:00</td>\n",
       "      <td>0.363510</td>\n",
       "      <td>0</td>\n",
       "      <td>0</td>\n",
       "      <td>0</td>\n",
       "      <td>0</td>\n",
       "      <td>0</td>\n",
       "      <td>0</td>\n",
       "      <td>0</td>\n",
       "      <td>0</td>\n",
       "      <td>0</td>\n",
       "      <td>0</td>\n",
       "    </tr>\n",
       "    <tr>\n",
       "      <th>1</th>\n",
       "      <td>pond</td>\n",
       "      <td>P</td>\n",
       "      <td>D127</td>\n",
       "      <td>2015/12/15</td>\n",
       "      <td>11:50:00</td>\n",
       "      <td>30.741863</td>\n",
       "      <td>0</td>\n",
       "      <td>0</td>\n",
       "      <td>0</td>\n",
       "      <td>0</td>\n",
       "      <td>0</td>\n",
       "      <td>0</td>\n",
       "      <td>0</td>\n",
       "      <td>0</td>\n",
       "      <td>0</td>\n",
       "      <td>0</td>\n",
       "    </tr>\n",
       "    <tr>\n",
       "      <th>2</th>\n",
       "      <td>wr175</td>\n",
       "      <td>P</td>\n",
       "      <td>D127</td>\n",
       "      <td>2015/12/15</td>\n",
       "      <td>12:21:00</td>\n",
       "      <td>68.872224</td>\n",
       "      <td>0</td>\n",
       "      <td>0</td>\n",
       "      <td>0</td>\n",
       "      <td>0</td>\n",
       "      <td>0</td>\n",
       "      <td>0</td>\n",
       "      <td>0</td>\n",
       "      <td>0</td>\n",
       "      <td>0</td>\n",
       "      <td>0</td>\n",
       "    </tr>\n",
       "    <tr>\n",
       "      <th>3</th>\n",
       "      <td>guard</td>\n",
       "      <td>P</td>\n",
       "      <td>D127</td>\n",
       "      <td>2015/12/15</td>\n",
       "      <td>12:55:00</td>\n",
       "      <td>11.921801</td>\n",
       "      <td>0</td>\n",
       "      <td>0</td>\n",
       "      <td>0</td>\n",
       "      <td>0</td>\n",
       "      <td>0</td>\n",
       "      <td>0</td>\n",
       "      <td>0</td>\n",
       "      <td>0</td>\n",
       "      <td>0</td>\n",
       "      <td>0</td>\n",
       "    </tr>\n",
       "    <tr>\n",
       "      <th>4</th>\n",
       "      <td>wr175</td>\n",
       "      <td>P</td>\n",
       "      <td>D127</td>\n",
       "      <td>2015/12/15</td>\n",
       "      <td>14:18:00</td>\n",
       "      <td>68.874849</td>\n",
       "      <td>0</td>\n",
       "      <td>0</td>\n",
       "      <td>0</td>\n",
       "      <td>0</td>\n",
       "      <td>0</td>\n",
       "      <td>0</td>\n",
       "      <td>0</td>\n",
       "      <td>0</td>\n",
       "      <td>0</td>\n",
       "      <td>0</td>\n",
       "    </tr>\n",
       "  </tbody>\n",
       "</table>\n",
       "</div>"
      ],
      "text/plain": [
       "     sta user meter        date      time    gravity  b  c  d  e  f  g  h  i  \\\n",
       "0  david    P  D127  2015/12/15  10:59:00   0.363510  0  0  0  0  0  0  0  0   \n",
       "1   pond    P  D127  2015/12/15  11:50:00  30.741863  0  0  0  0  0  0  0  0   \n",
       "2  wr175    P  D127  2015/12/15  12:21:00  68.872224  0  0  0  0  0  0  0  0   \n",
       "3  guard    P  D127  2015/12/15  12:55:00  11.921801  0  0  0  0  0  0  0  0   \n",
       "4  wr175    P  D127  2015/12/15  14:18:00  68.874849  0  0  0  0  0  0  0  0   \n",
       "\n",
       "   j  k  \n",
       "0  0  0  \n",
       "1  0  0  \n",
       "2  0  0  \n",
       "3  0  0  \n",
       "4  0  0  "
      ]
     },
     "execution_count": 23,
     "metadata": {},
     "output_type": "execute_result"
    }
   ],
   "source": [
    "#look ok?\n",
    "datanow.head()"
   ]
  },
  {
   "cell_type": "code",
   "execution_count": 17,
   "metadata": {},
   "outputs": [
    {
     "name": "stderr",
     "output_type": "stream",
     "text": [
      "C:\\Users\\ekahler\\AppData\\Local\\Continuum\\miniconda3\\envs\\pyg35\\lib\\site-packages\\ipykernel_launcher.py:2: SettingWithCopyWarning: \n",
      "A value is trying to be set on a copy of a slice from a DataFrame\n",
      "\n",
      "See the caveats in the documentation: http://pandas.pydata.org/pandas-docs/stable/indexing.html#indexing-view-versus-copy\n",
      "  \n"
     ]
    }
   ],
   "source": [
    "for i in range(len(datanow)):\n",
    "    datanow['gravity'][i] = float(datanow['gravity'][i]) * 0.001"
   ]
  },
  {
   "cell_type": "code",
   "execution_count": 24,
   "metadata": {},
   "outputs": [],
   "source": [
    "datanow.to_csv('TAMAoutput_forGSadjust2016.txt', header = False, index = False, sep = ' ')"
   ]
  },
  {
   "cell_type": "code",
   "execution_count": null,
   "metadata": {},
   "outputs": [],
   "source": []
  }
 ],
 "metadata": {
  "kernelspec": {
   "display_name": "Python 3",
   "language": "python",
   "name": "python3"
  },
  "language_info": {
   "codemirror_mode": {
    "name": "ipython",
    "version": 3
   },
   "file_extension": ".py",
   "mimetype": "text/x-python",
   "name": "python",
   "nbconvert_exporter": "python",
   "pygments_lexer": "ipython3",
   "version": "3.6.6"
  }
 },
 "nbformat": 4,
 "nbformat_minor": 2
}
